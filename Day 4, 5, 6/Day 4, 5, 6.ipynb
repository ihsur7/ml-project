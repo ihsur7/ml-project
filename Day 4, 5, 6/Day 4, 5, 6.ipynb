{
 "cells": [
  {
   "cell_type": "code",
   "execution_count": 28,
   "metadata": {},
   "outputs": [],
   "source": [
    "#Importing libraries\n",
    "import numpy as np\n",
    "import matplotlib.pyplot as plt\n",
    "import pandas as pd"
   ]
  },
  {
   "cell_type": "code",
   "execution_count": 29,
   "metadata": {},
   "outputs": [],
   "source": [
    "#Importing dataset\n",
    "dataset = pd.read_csv('../datasets/Social_Network_Ads.csv')\n",
    "X = dataset.iloc[ : , [2,3]].values\n",
    "y = dataset.iloc[ : , 4].values"
   ]
  },
  {
   "cell_type": "code",
   "execution_count": 30,
   "metadata": {},
   "outputs": [],
   "source": [
    "#Splitting the dataset into training and test data\n",
    "from sklearn.model_selection import train_test_split\n",
    "X_train, X_test, y_train, y_test = train_test_split(X, y, test_size = 0.25, random_state = 0)"
   ]
  },
  {
   "cell_type": "code",
   "execution_count": 31,
   "metadata": {},
   "outputs": [],
   "source": [
    "#Feature scaling for X\n",
    "from sklearn.preprocessing import StandardScaler\n",
    "sc = StandardScaler()\n",
    "X_train = sc.fit_transform(X_train)\n",
    "X_test = sc.transform(X_test)"
   ]
  },
  {
   "cell_type": "code",
   "execution_count": 32,
   "metadata": {},
   "outputs": [
    {
     "data": {
      "text/plain": [
       "LogisticRegression()"
      ]
     },
     "execution_count": 32,
     "metadata": {},
     "output_type": "execute_result"
    }
   ],
   "source": [
    "#Fitting logistic regression to the training set\n",
    "from sklearn.linear_model import LogisticRegression\n",
    "classifier = LogisticRegression()\n",
    "classifier.fit(X_train, y_train)"
   ]
  },
  {
   "cell_type": "code",
   "execution_count": 33,
   "metadata": {},
   "outputs": [],
   "source": [
    "#Predicting the test set results\n",
    "y_pred = classifier.predict(X_test)"
   ]
  },
  {
   "cell_type": "code",
   "execution_count": 34,
   "metadata": {},
   "outputs": [],
   "source": [
    "#Evaluating the prediction\n",
    "from sklearn.metrics import confusion_matrix\n",
    "cm = confusion_matrix(y_test, y_pred)"
   ]
  },
  {
   "cell_type": "code",
   "execution_count": 35,
   "metadata": {},
   "outputs": [
    {
     "ename": "IndexError",
     "evalue": "index 2 is out of bounds for axis 1 with size 2",
     "output_type": "error",
     "traceback": [
      "\u001b[0;31m---------------------------------------------------------------------------\u001b[0m",
      "\u001b[0;31mIndexError\u001b[0m                                Traceback (most recent call last)",
      "\u001b[1;32m/Users/abhishekjain/Documents/GitHub/ml-project/Day 4, 5, 6/Day 4, 5, 6.ipynb Cell 8'\u001b[0m in \u001b[0;36m<cell line: 14>\u001b[0;34m()\u001b[0m\n\u001b[1;32m     <a href='vscode-notebook-cell:/Users/abhishekjain/Documents/GitHub/ml-project/Day%204%2C%205%2C%206/Day%204%2C%205%2C%206.ipynb#ch0000007?line=11'>12</a>\u001b[0m ax1\u001b[39m.\u001b[39myaxis\u001b[39m.\u001b[39mset(ticks\u001b[39m=\u001b[39m\u001b[39mrange\u001b[39m(\u001b[39m-\u001b[39m\u001b[39m2\u001b[39m,\u001b[39m4\u001b[39m))\n\u001b[1;32m     <a href='vscode-notebook-cell:/Users/abhishekjain/Documents/GitHub/ml-project/Day%204%2C%205%2C%206/Day%204%2C%205%2C%206.ipynb#ch0000007?line=12'>13</a>\u001b[0m ax1\u001b[39m.\u001b[39mset_ylim(\u001b[39m-\u001b[39m\u001b[39m2.5\u001b[39m, \u001b[39m3.5\u001b[39m)\n\u001b[0;32m---> <a href='vscode-notebook-cell:/Users/abhishekjain/Documents/GitHub/ml-project/Day%204%2C%205%2C%206/Day%204%2C%205%2C%206.ipynb#ch0000007?line=13'>14</a>\u001b[0m ax1\u001b[39m.\u001b[39mscatter(X_train[:, [\u001b[39m2\u001b[39;49m,\u001b[39m3\u001b[39;49m]], y_train, color \u001b[39m=\u001b[39m \u001b[39m'\u001b[39m\u001b[39mred\u001b[39m\u001b[39m'\u001b[39m)\n\u001b[1;32m     <a href='vscode-notebook-cell:/Users/abhishekjain/Documents/GitHub/ml-project/Day%204%2C%205%2C%206/Day%204%2C%205%2C%206.ipynb#ch0000007?line=14'>15</a>\u001b[0m ax1\u001b[39m.\u001b[39mplot(X_train[:, \u001b[39m2\u001b[39m], classifier\u001b[39m.\u001b[39mpredict(X_train), color \u001b[39m=\u001b[39m \u001b[39m'\u001b[39m\u001b[39mblue\u001b[39m\u001b[39m'\u001b[39m)\n\u001b[1;32m     <a href='vscode-notebook-cell:/Users/abhishekjain/Documents/GitHub/ml-project/Day%204%2C%205%2C%206/Day%204%2C%205%2C%206.ipynb#ch0000007?line=16'>17</a>\u001b[0m \u001b[39m#testing\u001b[39;00m\n",
      "\u001b[0;31mIndexError\u001b[0m: index 2 is out of bounds for axis 1 with size 2"
     ]
    },
    {
     "data": {
      "image/png": "[encoded data removed]",
      "text/plain": [
       "<Figure size 432x288 with 2 Axes>"
      ]
     },
     "metadata": {
      "needs_background": "light"
     },
     "output_type": "display_data"
    }
   ],
   "source": [
    "#Visualizing the results\n",
    "#import seaborn as sns\n",
    "fit, (ax1, ax2) = plt.subplots(1, 2)\n",
    "fit.tight_layout(pad=3) \n",
    "#training\n",
    "ax1.title.set_text('Logistic Regression (Training set)')\n",
    "ax1.imshow(cm)\n",
    "ax1.grid(False)\n",
    "ax1.set_xlabel('Age', color='black')\n",
    "ax1.set_ylabel('Estimated Salary', color='black')\n",
    "ax1.xaxis.set(ticks=range(-3,4))\n",
    "ax1.yaxis.set(ticks=range(-2,4))\n",
    "ax1.set_ylim(-2.5, 3.5)\n",
    "#ax1.scatter(X_train[:, [2,3]], y_train, color = 'red')\n",
    "#ax1.plot(X_train[:, 2], classifier.predict(X_train), color = 'blue')\n",
    "\n",
    "#testing\n",
    "ax2.title.set_text('Logistic Regression (Test set)')\n",
    "ax2.imshow(cm)\n",
    "ax2.grid(False)\n",
    "ax2.set_xlabel('Age', color='black')\n",
    "ax2.set_ylabel('Estimated Salary', color='black')\n",
    "ax2.xaxis.set(ticks=range(-3,4))\n",
    "ax2.yaxis.set(ticks=range(-2,4))\n",
    "ax2.set_ylim(-2.5, 3.5)\n",
    "#ax2.scatter(X_test[:, 2], y_test, color = 'red')\n",
    "#ax2.plot(X_test[:, 2], classifier.predict(X_test), color = 'blue')"
   ]
  }
 ],
 "metadata": {
  "interpreter": {
   "hash": "aee8b7b246df8f9039afb4144a1f6fd8d2ca17a180786b69acc140d282b71a49"
  },
  "kernelspec": {
   "display_name": "Python 3.8.8 64-bit",
   "language": "python",
   "name": "python3"
  },
  "language_info": {
   "codemirror_mode": {
    "name": "ipython",
    "version": 3
   },
   "file_extension": ".py",
   "mimetype": "text/x-python",
   "name": "python",
   "nbconvert_exporter": "python",
   "pygments_lexer": "ipython3",
   "version": "3.8.8"
  },
  "orig_nbformat": 4
 },
 "nbformat": 4,
 "nbformat_minor": 2
}
