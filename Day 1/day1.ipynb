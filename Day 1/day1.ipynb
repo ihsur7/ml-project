{
 "cells": [
  {
   "cell_type": "code",
<<<<<<< Updated upstream:Day 1/day1.ipynb
   "execution_count": 5,
=======
   "execution_count": 9,
>>>>>>> Stashed changes:day1.ipynb
   "metadata": {},
   "outputs": [
    {
     "name": "stdout",
     "output_type": "stream",
     "text": [
<<<<<<< Updated upstream:Day 1/day1.ipynb
      "c:\\Users\\s4355891\\Documents\\GitHub\\ml-project\\Day 1\n"
=======
      "/Users/abhishekjain/Documents/GitHub/ml-project\n"
>>>>>>> Stashed changes:day1.ipynb
     ]
    }
   ],
   "source": [
    "#import libraries\n",
    "import os\n",
    "print(os.getcwd())\n",
    "import numpy as np\n",
    "import pandas as pd"
   ]
  },
  {
   "cell_type": "code",
<<<<<<< Updated upstream:Day 1/day1.ipynb
   "execution_count": 28,
=======
   "execution_count": 10,
>>>>>>> Stashed changes:day1.ipynb
   "metadata": {},
   "outputs": [],
   "source": [
    "#import dataset\n",
    "dataset = pd.read_csv('../datasets/Data.csv')\n",
    "\n",
    "X = dataset.iloc[:, :-1].values\n",
    "Y = dataset.iloc[:, 3].values"
   ]
  },
  {
   "cell_type": "code",
<<<<<<< Updated upstream:Day 1/day1.ipynb
   "execution_count": 29,
=======
   "execution_count": 11,
>>>>>>> Stashed changes:day1.ipynb
   "metadata": {},
   "outputs": [],
   "source": [
    "#handle missing data\n",
    "from sklearn.impute import SimpleImputer\n",
    "\n",
    "imputer = SimpleImputer(missing_values=np.nan, strategy='mean')\n",
    "imputer = imputer.fit(X[:,1:3])\n",
    "X[:,1:3] = imputer.transform(X[:,1:3])\n"
   ]
  },
  {
   "cell_type": "code",
<<<<<<< Updated upstream:Day 1/day1.ipynb
   "execution_count": 30,
=======
   "execution_count": 12,
>>>>>>> Stashed changes:day1.ipynb
   "metadata": {},
   "outputs": [],
   "source": [
    "#encoding categorical data\n",
    "from sklearn.preprocessing import LabelEncoder, OneHotEncoder\n",
    "\n",
    "labelencoder_X = LabelEncoder()\n",
    "X[:,0] = labelencoder_X.fit_transform(X[:,0])"
   ]
  },
  {
   "cell_type": "code",
<<<<<<< Updated upstream:Day 1/day1.ipynb
   "execution_count": 31,
=======
   "execution_count": 13,
>>>>>>> Stashed changes:day1.ipynb
   "metadata": {},
   "outputs": [],
   "source": [
    "#creating a dummy variable\n",
    "from sklearn.compose import ColumnTransformer\n",
    "\n",
    "ct = ColumnTransformer([(\"Country\", OneHotEncoder(), [0])], remainder='passthrough')\n",
    "X = ct.fit_transform(X)\n",
    "\n",
    "labelencoder_Y = LabelEncoder()\n",
    "Y = labelencoder_Y.fit_transform(Y)"
   ]
  },
  {
   "cell_type": "code",
<<<<<<< Updated upstream:Day 1/day1.ipynb
   "execution_count": 32,
=======
   "execution_count": 14,
>>>>>>> Stashed changes:day1.ipynb
   "metadata": {},
   "outputs": [],
   "source": [
    "#splitting the datasets into training sets and test sets\n",
    "from sklearn.model_selection import train_test_split\n",
    "\n",
    "X_train, X_test, Y_train, Y_test = train_test_split(X, Y, test_size=0.2, random_state=0)"
   ]
  },
  {
   "cell_type": "code",
<<<<<<< Updated upstream:Day 1/day1.ipynb
   "execution_count": 33,
=======
   "execution_count": 15,
>>>>>>> Stashed changes:day1.ipynb
   "metadata": {},
   "outputs": [],
   "source": [
    "from sklearn.preprocessing import StandardScaler\n",
    "\n",
    "sc_X = StandardScaler()\n",
    "X_train = sc_X.fit_transform(X_train)\n",
    "X_test = sc_X.fit_transform(X_test)"
   ]
  },
  {
   "cell_type": "code",
   "execution_count": 34,
   "metadata": {},
   "outputs": [
    {
     "name": "stdout",
     "output_type": "stream",
     "text": [
      "[[1.0 0.0 0.0 44.0]\n",
      " [0.0 0.0 1.0 27.0]\n",
      " [0.0 1.0 0.0 30.0]\n",
      " [0.0 0.0 1.0 38.0]\n",
      " [0.0 1.0 0.0 40.0]\n",
      " [1.0 0.0 0.0 35.0]\n",
      " [0.0 0.0 1.0 38.77777777777778]\n",
      " [1.0 0.0 0.0 48.0]\n",
      " [0.0 1.0 0.0 50.0]\n",
      " [1.0 0.0 0.0 37.0]]\n",
      "[0 1 0 0 1 1 0 1 0 1]\n"
     ]
    }
   ],
   "source": [
    "print(X[:, :-1])\n",
    "print(Y)\n"
   ]
  }
 ],
 "metadata": {
  "interpreter": {
   "hash": "453cfb3f494e225cbb6de6f570aa221ea4348bd29a42c78c13be6eabfa938779"
  },
  "kernelspec": {
   "display_name": "Python 3.8.8 64-bit ('base': conda)",
   "language": "python",
   "name": "python3"
  },
  "language_info": {
   "codemirror_mode": {
    "name": "ipython",
    "version": 3
   },
   "file_extension": ".py",
   "mimetype": "text/x-python",
   "name": "python",
   "nbconvert_exporter": "python",
   "pygments_lexer": "ipython3",
   "version": "3.8.8"
  },
  "orig_nbformat": 4
 },
 "nbformat": 4,
 "nbformat_minor": 2
}
