{
 "cells": [
  {
   "cell_type": "code",
   "execution_count": 7,
   "metadata": {},
   "outputs": [],
   "source": [
    "#import libraries\n",
    "import numpy as np\n",
    "from pyspark.sql import SparkSession\n"
   ]
  },
  {
   "cell_type": "code",
   "execution_count": 8,
   "metadata": {},
   "outputs": [
    {
     "name": "stdout",
     "output_type": "stream",
     "text": [
      "<pyspark.sql.session.SparkSession object at 0x000001548B4E8370>\n",
      "root\n",
      " |-- _c0: integer (nullable = true)\n",
      " |-- S.No: integer (nullable = true)\n",
      " |-- USERNAME: string (nullable = true)\n",
      " |-- Caption: string (nullable = true)\n",
      " |-- Followers: string (nullable = true)\n",
      " |-- Hashtags: string (nullable = true)\n",
      " |-- Time since posted: string (nullable = true)\n",
      " |-- Likes: string (nullable = true)\n",
      "\n"
     ]
    }
   ],
   "source": [
    "#start spark session\n",
    "spark = SparkSession.builder.appName(\"InstagramReach\").getOrCreate()\n",
    "\n",
    "print(spark)\n",
    "\n",
    "#read csv with header\n",
    "dataset = spark.read.csv('dataset/instagram_reach.csv', header=True, inferSchema=True)\n",
    "dataset.printSchema()"
   ]
  }
 ],
 "metadata": {
  "interpreter": {
   "hash": "e56bdd3ca92bd0b970f090b25888899c134c1fa6dd449bed8e5c6a9361b31546"
  },
  "kernelspec": {
   "display_name": "Python 3.8.8 ('base')",
   "language": "python",
   "name": "python3"
  },
  "language_info": {
   "codemirror_mode": {
    "name": "ipython",
    "version": 3
   },
   "file_extension": ".py",
   "mimetype": "text/x-python",
   "name": "python",
   "nbconvert_exporter": "python",
   "pygments_lexer": "ipython3",
   "version": "3.8.0"
  },
  "orig_nbformat": 4
 },
 "nbformat": 4,
 "nbformat_minor": 2
}
